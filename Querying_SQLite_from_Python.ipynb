{
 "cells": [
  {
   "cell_type": "markdown",
   "metadata": {},
   "source": [
    "# Querying SQLite from Python by Using Native Python Objects"
   ]
  },
  {
   "cell_type": "code",
   "execution_count": 1,
   "metadata": {},
   "outputs": [],
   "source": [
    "## Python 2.5 and up come with the sqlite module, which means we don't need to install any separate libraries \n",
    "  ## to get started. \n",
    "## We'll be working with the sqlite3 Python module, developed to work with SQLite version 3\n",
    "\n",
    "import sqlite3"
   ]
  },
  {
   "cell_type": "code",
   "execution_count": 2,
   "metadata": {},
   "outputs": [
    {
     "data": {
      "text/plain": [
       "<sqlite3.Connection at 0x7fc21eefe5d0>"
      ]
     },
     "execution_count": 2,
     "metadata": {},
     "output_type": "execute_result"
    }
   ],
   "source": [
    "## Connecting to a database.\n",
    "## connect() function requires a single parameter, which is the database we want to connect to.\n",
    "\n",
    "con = sqlite3.connect(\"data/chinook.db\")\n",
    "sqlite3.connect(\"data/chinook.db\")"
   ]
  },
  {
   "cell_type": "code",
   "execution_count": 3,
   "metadata": {},
   "outputs": [
    {
     "data": {
      "text/plain": [
       "<sqlite3.Cursor at 0x7fc21ef74650>"
      ]
     },
     "execution_count": 3,
     "metadata": {},
     "output_type": "execute_result"
    }
   ],
   "source": [
    "## We need to use the Connection instance method cursor() \n",
    "   ## to return a Cursor instance corresponding to the database we want to query.\n",
    "## curson() the connection instance method does the followings:\n",
    "## Parse the results from the database\n",
    "## Convert the results to native Python objects\n",
    "## Store the results within the Cursor instance as a local variable    \n",
    "\n",
    "con.cursor()"
   ]
  },
  {
   "cell_type": "code",
   "execution_count": 4,
   "metadata": {},
   "outputs": [
    {
     "data": {
      "text/plain": [
       "<sqlite3.Cursor at 0x7fc21ef74960>"
      ]
     },
     "execution_count": 4,
     "metadata": {},
     "output_type": "execute_result"
    }
   ],
   "source": [
    "## Now that database is parsed and converted into native Python objects (list of tuples) we can execute our query.\n",
    "## We use the Cursor method execute() to run the query against our database.\n",
    "## execute() requires a single paramenter which is our query\n",
    "\n",
    "query = \"select * from employee\"\n",
    "\n",
    "con.cursor().execute(query)"
   ]
  },
  {
   "cell_type": "code",
   "execution_count": 5,
   "metadata": {},
   "outputs": [
    {
     "data": {
      "text/plain": [
       "(1,\n",
       " 'Adams',\n",
       " 'Andrew',\n",
       " 'General Manager',\n",
       " None,\n",
       " '1962-02-18 00:00:00',\n",
       " '2016-08-14 00:00:00',\n",
       " '11120 Jasper Ave NW',\n",
       " 'Edmonton',\n",
       " 'AB',\n",
       " 'Canada',\n",
       " 'T5K 2N1',\n",
       " '+1 (780) 428-9482',\n",
       " '+1 (780) 428-3457',\n",
       " 'andrew@chinookcorp.com')"
      ]
     },
     "execution_count": 5,
     "metadata": {},
     "output_type": "execute_result"
    }
   ],
   "source": [
    "## Now that we have the result stored as a local variable we can display it by calling cursor method fetchall()\n",
    "\n",
    "con.cursor().execute(query).fetchall()[0]"
   ]
  },
  {
   "cell_type": "code",
   "execution_count": 6,
   "metadata": {},
   "outputs": [
    {
     "data": {
      "text/plain": [
       "(1,\n",
       " 'Adams',\n",
       " 'Andrew',\n",
       " 'General Manager',\n",
       " None,\n",
       " '1962-02-18 00:00:00',\n",
       " '2016-08-14 00:00:00',\n",
       " '11120 Jasper Ave NW',\n",
       " 'Edmonton',\n",
       " 'AB',\n",
       " 'Canada',\n",
       " 'T5K 2N1',\n",
       " '+1 (780) 428-9482',\n",
       " '+1 (780) 428-3457',\n",
       " 'andrew@chinookcorp.com')"
      ]
     },
     "execution_count": 6,
     "metadata": {},
     "output_type": "execute_result"
    }
   ],
   "source": [
    "employee_1_info = con.cursor().execute(query).fetchall()[0]\n",
    "employee_1_info"
   ]
  },
  {
   "cell_type": "code",
   "execution_count": 7,
   "metadata": {},
   "outputs": [],
   "source": [
    "## After we are done working with the database we have to close the connection \n",
    "\n",
    "con.close()"
   ]
  },
  {
   "cell_type": "code",
   "execution_count": null,
   "metadata": {},
   "outputs": [],
   "source": []
  }
 ],
 "metadata": {
  "kernelspec": {
   "display_name": "Python 3",
   "language": "python",
   "name": "python3"
  },
  "language_info": {
   "codemirror_mode": {
    "name": "ipython",
    "version": 3
   },
   "file_extension": ".py",
   "mimetype": "text/x-python",
   "name": "python",
   "nbconvert_exporter": "python",
   "pygments_lexer": "ipython3",
   "version": "3.8.5"
  }
 },
 "nbformat": 4,
 "nbformat_minor": 4
}
